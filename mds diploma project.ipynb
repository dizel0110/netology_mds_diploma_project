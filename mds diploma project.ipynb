{
 "cells": [
  {
   "cell_type": "markdown",
   "metadata": {},
   "source": [
    "## Итоговая работа по курсу \"Математика для Data Science\" потока mds-6"
   ]
  },
  {
   "cell_type": "code",
   "execution_count": 4,
   "metadata": {},
   "outputs": [],
   "source": [
    "import matplotlib.pyplot as plt\n",
    "import numpy as np\n",
    "\n",
    "from scipy.optimize import minimize\n",
    "%matplotlib inline"
   ]
  },
  {
   "cell_type": "markdown",
   "metadata": {},
   "source": [
    "### **Задание 1**"
   ]
  },
  {
   "cell_type": "markdown",
   "metadata": {},
   "source": [
    "Дана матрица рейтингов фильмов (строки - пользователи (10 человек), столбцы - фильмы (15 фильмов))"
   ]
  },
  {
   "cell_type": "code",
   "execution_count": 5,
   "metadata": {},
   "outputs": [],
   "source": [
    "raitings = np.array([[ 4,  4,  9,  4,  1,  6, 10,  7,  9,  6,  9,  2,  8,  6,  6],\n",
    "                     [ 9,  2,  5, 10,  7,  8, 10,  5,  6,  2,  1,  6,  8,  9,  7],\n",
    "                     [ 1,  6,  8,  8,  4,  9,  3,  8, 10,  5,  2,  6,  8,  1,  6],\n",
    "                     [ 6,  1,  9,  7,  7,  9,  2,  3,  5,  1,  6,  6,  3,  2,  7],\n",
    "                     [ 3,  7,  3,  5,  7,  9,  9,  6,  2,  9,  1,  2,  8, 10,  6],\n",
    "                     [ 8,  3,  7,  3,  8,  6,  1,  8,  8,  6,  1,  9,  4, 10,  1],\n",
    "                     [ 9,  8,  4,  8,  8, 10,  6,  1,  1,  2,  9,  5,  2,  7,  2],\n",
    "                     [ 4,  1,  6,  4,  3, 10,  4,  4,  2,  8,  7,  9,  3,  8,  3],\n",
    "                     [ 2,  7,  7,  6, 10,  6,  8,  9,  8,  6, 10,  1,  7, 10,  4],\n",
    "                     [ 5, 10,  8,  8,  9,  7,  2,  9,  9, 10,  8,  8,  8,  6, 10]])"
   ]
  },
  {
   "cell_type": "markdown",
   "metadata": {},
   "source": [
    "Найдём среднее значение выборки:"
   ]
  },
  {
   "cell_type": "markdown",
   "metadata": {},
   "source": [
    "**a)** Необходимо найти наиболее похожего пользователя по косинусной метрике для каждого из (ответ: 10 пар вида (x, y), где y - наиболее похожий пользователь на пользователя x)."
   ]
  },
  {
   "cell_type": "markdown",
   "metadata": {},
   "source": [
    "**b)** Предположим, вы захотели сжать признаковые описания пользователя с 15 фильмов, до, скажем, 5-ти признаков, как вы это сделаете?"
   ]
  },
  {
   "cell_type": "markdown",
   "metadata": {},
   "source": [
    "В **задании 1 a** нужно сравнивать косинусное расстояние (метрику) между пользователями.  \n",
    "Это лучше сделать в виде цикла, сначала берём первого ('нулевого') пользователя, сравниваем с каждым из других пользователей и выбираем в пару пользователя с минимальным косинусным расстоянием к текущему пользователю. Итак, для каждого пользователя."
   ]
  },
  {
   "cell_type": "code",
   "execution_count": 9,
   "metadata": {},
   "outputs": [],
   "source": [
    "def cosine( a, b ):\n",
    "    \"\"\"\n",
    "    Подсчет косинуса угла между векторами a, b по их координатам\n",
    "    \"\"\"\n",
    "    \n",
    "    # длины векторов\n",
    "    aLength = np.linalg.norm( a )\n",
    "    bLength = np.linalg.norm( b )\n",
    "    \n",
    "    return np.dot( a, b ) / ( aLength * bLength )"
   ]
  },
  {
   "cell_type": "code",
   "execution_count": 11,
   "metadata": {},
   "outputs": [
    {
     "name": "stdout",
     "output_type": "stream",
     "text": [
      "[[0, 8], [1, 4], [2, 9], [3, 9], [4, 8], [5, 9], [6, 3], [7, 5], [8, 0], [9, 2]]\n"
     ]
    }
   ],
   "source": [
    "pairs = []\n",
    "\n",
    "for i in range(len(raitings)):\n",
    "    user_raitings = raitings[i]\n",
    "    cos_max = 0\n",
    "    index = -1\n",
    "    for j in range(len(raitings)):\n",
    "        if j == i: continue\n",
    "        if(cosine( user_raitings, raitings[j] ) > cos_max):\n",
    "            cos_max = cosine( user_raitings, raitings[j] )\n",
    "            index = j\n",
    "    pairs.append([i, index])\n",
    "print(pairs)"
   ]
  },
  {
   "cell_type": "code",
   "execution_count": 8,
   "metadata": {},
   "outputs": [
    {
     "data": {
      "text/plain": [
       "array([ 1,  6,  8,  8,  4,  9,  3,  8, 10,  5,  2,  6,  8,  1,  6])"
      ]
     },
     "execution_count": 8,
     "metadata": {},
     "output_type": "execute_result"
    }
   ],
   "source": [
    "raitings[2]"
   ]
  },
  {
   "cell_type": "markdown",
   "metadata": {},
   "source": [
    "В **задании 1 b** можно осуществить понижение размерности с помощью [svd-разложения](https://scikit-learn.org/stable/modules/generated/sklearn.decomposition.TruncatedSVD.html)."
   ]
  },
  {
   "cell_type": "code",
   "execution_count": 29,
   "metadata": {},
   "outputs": [
    {
     "data": {
      "text/plain": [
       "array([[23.41982063, -5.36092136,  3.83196779, -4.06950174,  1.10267269],\n",
       "       [24.76774917,  4.52188701,  1.35815965,  1.58128545,  8.59912002],\n",
       "       [22.27728589, -6.96492049, -4.84461485, -0.47661647,  3.37152266],\n",
       "       [19.4257757 ,  2.64575227, -6.86014009, -4.76604765,  1.96075707],\n",
       "       [22.8146354 ,  0.51464093,  7.70180188,  4.42379773,  1.29124163],\n",
       "       [21.76961656,  1.94294987, -4.56934779,  8.32306487, -2.21887359],\n",
       "       [21.23427453,  9.78047778,  1.16340271, -4.86074521, -2.60815471],\n",
       "       [19.97476815,  4.00048677, -1.67456316,  1.1512346 , -3.5637169 ],\n",
       "       [26.39306998, -3.03090482,  5.86422753, -1.67503491, -3.71500141],\n",
       "       [29.94016844, -4.82012297, -3.48912415,  0.05527083, -3.62526487]])"
      ]
     },
     "execution_count": 29,
     "metadata": {},
     "output_type": "execute_result"
    }
   ],
   "source": [
    "from sklearn.decomposition import TruncatedSVD\n",
    "\n",
    "svd = TruncatedSVD(n_components=5)\n",
    "X_reduced = svd.fit_transform(raitings)\n",
    "X_reduced"
   ]
  },
  {
   "cell_type": "markdown",
   "metadata": {},
   "source": [
    "Или так:"
   ]
  },
  {
   "cell_type": "code",
   "execution_count": 39,
   "metadata": {},
   "outputs": [
    {
     "data": {
      "text/plain": [
       "array([[-14.42562294,   4.58656128,  -3.11511916,  -1.60103889,\n",
       "         -3.15319867],\n",
       "       [ -6.2381279 ,   5.37395842,   3.22380893,   2.96033849,\n",
       "        -13.16140044],\n",
       "       [-14.055866  ,  -4.03124884,   0.87237926,  -0.68735241,\n",
       "         -9.34787025],\n",
       "       [ -3.96636285,  -3.62291   ,  -2.84190447,  -3.21267898,\n",
       "         -9.67288865],\n",
       "       [-10.49064883,  10.20094268,   5.8262248 ,  -2.17451892,\n",
       "         -8.82142702],\n",
       "       [ -6.46234237,  -1.11339318,  10.40218859,  -5.76920221,\n",
       "         -6.98415983],\n",
       "       [ -0.50002249,   6.44339618,  -2.20932916,  -8.67874479,\n",
       "        -11.7969803 ],\n",
       "       [ -3.71917935,   1.64031623,   2.83244853,  -6.19804739,\n",
       "         -2.10934215],\n",
       "       [-14.90011072,   7.9559339 ,   0.33704499,  -8.01587444,\n",
       "         -8.44505058],\n",
       "       [-16.39933583,  -0.85992835,   2.85106876,  -9.65207068,\n",
       "        -13.0894574 ]])"
      ]
     },
     "execution_count": 39,
     "metadata": {},
     "output_type": "execute_result"
    }
   ],
   "source": [
    "from sklearn.decomposition import PCA\n",
    "from sklearn.metrics import mean_squared_error\n",
    "\n",
    "X = raitings\n",
    "pca = PCA(n_components=5)\n",
    "pca.fit(X)\n",
    "X_reduced = np.dot(X, pca.components_.T)\n",
    "X_original = np.dot(X_reduced, pca.components_)\n",
    "X_reduced"
   ]
  },
  {
   "cell_type": "code",
   "execution_count": 40,
   "metadata": {},
   "outputs": [
    {
     "data": {
      "text/plain": [
       "24.683375288903374"
      ]
     },
     "execution_count": 40,
     "metadata": {},
     "output_type": "execute_result"
    }
   ],
   "source": [
    "mean_squared_error(X, X_original) #true&pred"
   ]
  },
  {
   "cell_type": "markdown",
   "metadata": {},
   "source": [
    " Мы понижали размерность.  \n",
    " То, что оценки у нас \"весьма поплыли\" это не страшно, главное, что мы можем восстановить первоначальную информацию с некоторой точностью и есть возможность работы с матрицей меньшей размерности. "
   ]
  },
  {
   "cell_type": "markdown",
   "metadata": {},
   "source": [
    "### **Задание 2**"
   ]
  },
  {
   "cell_type": "markdown",
   "metadata": {},
   "source": [
    "Вычислите производную $tg^2(sin(x) + cos(2x+3))$ в точке $x_0=1$ на python и на бумаге (просто подставить точку в производную и ничего не упрощать)."
   ]
  },
  {
   "cell_type": "markdown",
   "metadata": {},
   "source": [
    "**Решение на python:**"
   ]
  },
  {
   "cell_type": "code",
   "execution_count": 66,
   "metadata": {},
   "outputs": [],
   "source": [
    "#from scipy.misc import derivative\n",
    "#from math import sin, cos"
   ]
  },
  {
   "cell_type": "code",
   "execution_count": 69,
   "metadata": {},
   "outputs": [
    {
     "data": {
      "text/latex": [
       "$\\displaystyle \\tan^{2}{\\left(\\sin{\\left(x \\right)} + \\cos{\\left(2 x + 3 \\right)} \\right)}$"
      ],
      "text/plain": [
       "tan(sin(x) + cos(2*x + 3))**2"
      ]
     },
     "execution_count": 69,
     "metadata": {},
     "output_type": "execute_result"
    }
   ],
   "source": [
    "f_x = np.power(tan((sin(x)+cos(2*x+3))),2)\n",
    "f_x"
   ]
  },
  {
   "cell_type": "code",
   "execution_count": 70,
   "metadata": {},
   "outputs": [
    {
     "data": {
      "text/latex": [
       "$\\displaystyle 2 \\left(- 2 \\sin{\\left(2 x + 3 \\right)} + \\cos{\\left(x \\right)}\\right) \\left(\\tan^{2}{\\left(\\sin{\\left(x \\right)} + \\cos{\\left(2 x + 3 \\right)} \\right)} + 1\\right) \\tan{\\left(\\sin{\\left(x \\right)} + \\cos{\\left(2 x + 3 \\right)} \\right)}$"
      ],
      "text/plain": [
       "2*(-2*sin(2*x + 3) + cos(x))*(tan(sin(x) + cos(2*x + 3))**2 + 1)*tan(sin(x) + cos(2*x + 3))"
      ]
     },
     "execution_count": 70,
     "metadata": {},
     "output_type": "execute_result"
    }
   ],
   "source": [
    "import sympy\n",
    "from sympy import diff, symbols, cos, sin, tan #, symbols, lambdify\n",
    "x = symbols('x')      #x, y = symbols('x y')\n",
    "dfdx = diff(f_x)\n",
    "dfdx"
   ]
  },
  {
   "cell_type": "code",
   "execution_count": 71,
   "metadata": {},
   "outputs": [
    {
     "name": "stdout",
     "output_type": "stream",
     "text": [
      "tan(sin(x) + cos(2*x + 3))**2\n"
     ]
    }
   ],
   "source": [
    "print(np.power(tan((sin(x)+cos(2*x+3))),2))"
   ]
  },
  {
   "cell_type": "code",
   "execution_count": 72,
   "metadata": {},
   "outputs": [
    {
     "name": "stdout",
     "output_type": "stream",
     "text": [
      "2*(-2*sin(2*x + 3) + cos(x))*(tan(sin(x) + cos(2*x + 3))**2 + 1)*tan(sin(x) + cos(2*x + 3))\n"
     ]
    }
   ],
   "source": [
    "print(dfdx)"
   ]
  },
  {
   "cell_type": "code",
   "execution_count": 73,
   "metadata": {},
   "outputs": [
    {
     "data": {
      "text/plain": [
       "55.385917635337854"
      ]
     },
     "execution_count": 73,
     "metadata": {},
     "output_type": "execute_result"
    }
   ],
   "source": [
    "lambdify((x), dfdx) (1)"
   ]
  },
  {
   "cell_type": "markdown",
   "metadata": {},
   "source": [
    "**Решение в LaTeX:**"
   ]
  },
  {
   "cell_type": "markdown",
   "metadata": {},
   "source": [
    "Для вычисления нам понадобится правила [вычисления производной](https://planetcalc.ru/675/).  \n",
    "И [формулы тригонометрии](https://doza.pro/art/math/geometry/trig-formulas), чтобы привести один в один к полученному с помощью python выражению."
   ]
  },
  {
   "cell_type": "markdown",
   "metadata": {},
   "source": [
    "$f(x)=tan^2(sin(x)+cos(2x+3))$  \n",
    "\n",
    "$$f'(x)=2{\\cdot}tan(sin(x)+cos(2x+3)){\\cdot}(tan(sin(x)+cos(2x+3)))'$$   \n",
    "$$f'(x)=2{\\cdot}tan(sin(x)+cos(2x+3)){\\cdot}(tan(sin(x)+cos(2x+3)))'$$\n",
    "$$f'(x)=2{\\cdot}tan(sin(x)+cos(2x+3)){\\cdot}(1+tan^2(sin(x)+cos(2x+3))){\\cdot}(sin(x)+cos(2x+3))'$$  \n",
    "$$f'(x)=2{\\cdot}tan(sin(x)+cos(2x+3)){\\cdot}(1+tan^2(sin(x)+cos(2x+3))){\\cdot}(cos(x)-sin(2x+3){\\cdot}(2x+3)')$$\n",
    "\n",
    "Окончательно:  \n",
    "\n",
    "$$f'(x)=2{\\cdot}tan(sin(x)+cos(2x+3)){\\cdot}(1+tan^2(sin(x)+cos(2x+3))){\\cdot}(cos(x)-2{\\cdot}sin(2x+3))$$"
   ]
  },
  {
   "cell_type": "markdown",
   "metadata": {},
   "source": [
    "Можно ещё подставить единичку $x_0=1\\ рад$.\n",
    "$$f'(1)=2{\\cdot}tan(sin(1)+cos(2{\\cdot}1+3)){\\cdot}(1+tan^2(sin(1)+cos(2{\\cdot}1+3))){\\cdot}(cos(1)-2{\\cdot}sin(2{\\cdot}1+3))$$"
   ]
  },
  {
   "cell_type": "markdown",
   "metadata": {},
   "source": [
    "### **Задание 3**"
   ]
  },
  {
   "cell_type": "markdown",
   "metadata": {},
   "source": [
    "Дана функция с неизвестными параметрами a и b, вам также известны значения функции fx в точках x. Найдите оптимальные параметры a, b, минимизирующие абсолютную ошибку **error**"
   ]
  },
  {
   "cell_type": "code",
   "execution_count": 42,
   "metadata": {},
   "outputs": [],
   "source": [
    "def f(x, a, b):\n",
    "    return np.e**a * np.sin(b*x) + x"
   ]
  },
  {
   "cell_type": "code",
   "execution_count": 43,
   "metadata": {},
   "outputs": [],
   "source": [
    "x = np.array([0.        , 0.26315789, 0.52631579, 0.78947368, 1.05263158,\n",
    "              1.31578947, 1.57894737, 1.84210526, 2.10526316, 2.36842105,\n",
    "              2.63157895, 2.89473684, 3.15789474, 3.42105263, 3.68421053,\n",
    "              3.94736842, 4.21052632, 4.47368421, 4.73684211, 5.        ])"
   ]
  },
  {
   "cell_type": "code",
   "execution_count": 44,
   "metadata": {},
   "outputs": [],
   "source": [
    "fx = np.array([  0.        , -12.01819092, -18.90968634, -17.68786571,\n",
    "                -8.7529108 ,   4.27524517,  16.06801336,  21.81250213,\n",
    "                19.22059845,   9.48411207,  -3.22273056, -13.48576488,\n",
    "               -16.91096359, -11.95866834,  -0.58630088,  12.56873816,\n",
    "                22.12489421,  24.20292139,  18.04522521,   6.33211092])"
   ]
  },
  {
   "cell_type": "code",
   "execution_count": 45,
   "metadata": {},
   "outputs": [
    {
     "data": {
      "image/png": "[encoded data removed]",
      "text/plain": [
       "<Figure size 432x288 with 1 Axes>"
      ]
     },
     "metadata": {
      "needs_background": "light"
     },
     "output_type": "display_data"
    }
   ],
   "source": [
    "plt.plot(x, fx)\n",
    "plt.show()"
   ]
  },
  {
   "cell_type": "code",
   "execution_count": 47,
   "metadata": {},
   "outputs": [],
   "source": [
    "def error(params):\n",
    "    return np.sum(np.abs(fx - f(x, params[0], params[1])))"
   ]
  },
  {
   "cell_type": "code",
   "execution_count": 60,
   "metadata": {},
   "outputs": [
    {
     "name": "stdout",
     "output_type": "stream",
     "text": [
      "Optimization terminated successfully.\n",
      "         Current function value: 0.000106\n",
      "         Iterations: 57\n",
      "         Function evaluations: 108\n"
     ]
    },
    {
     "data": {
      "text/plain": [
       " final_simplex: (array([[ 3.00000022, -2.50000014],\n",
       "       [ 3.00000019, -2.49999984],\n",
       "       [ 2.99999923, -2.50000004]]), array([0.00010576, 0.0001236 , 0.00019454]))\n",
       "           fun: 0.0001057634580963196\n",
       "       message: 'Optimization terminated successfully.'\n",
       "          nfev: 108\n",
       "           nit: 57\n",
       "        status: 0\n",
       "       success: True\n",
       "             x: array([ 3.00000022, -2.50000014])"
      ]
     },
     "execution_count": 60,
     "metadata": {},
     "output_type": "execute_result"
    }
   ],
   "source": [
    "params0 = [2,-2]\n",
    "\n",
    "res_error = minimize(error, params0, method='nelder-mead', options={'xtol': 1e-6, 'disp': True})\n",
    "\n",
    "res_error"
   ]
  },
  {
   "cell_type": "code",
   "execution_count": 61,
   "metadata": {},
   "outputs": [
    {
     "data": {
      "image/png": "[encoded data removed]",
      "text/plain": [
       "<Figure size 432x288 with 1 Axes>"
      ]
     },
     "metadata": {
      "needs_background": "light"
     },
     "output_type": "display_data"
    }
   ],
   "source": [
    "#plt.plot(x, fx)\n",
    "plt.scatter(x, fx, color='red', s=40, marker='o')\n",
    "plt.plot(x, f(x, 3, -2.5))\n",
    "plt.show()"
   ]
  },
  {
   "cell_type": "markdown",
   "metadata": {},
   "source": [
    "### **Задание 4**"
   ]
  },
  {
   "cell_type": "markdown",
   "metadata": {},
   "source": [
    "Создайте собственную дискретную случайную величину с 20 значениями. Сгенерируйте 1000 выборок размера 50. Посчитайте среднее для каждой выборки. Постройте гистограмму распределения средних.\n",
    "\n"
   ]
  },
  {
   "cell_type": "code",
   "execution_count": 79,
   "metadata": {},
   "outputs": [],
   "source": [
    "# создадим дискретную случайную велечину рэндомно\n",
    "random_vars = np.random.random(20)\n",
    "# создадим рэндомно плотности вероятностей значений с.в.\n",
    "list_of_random_floats = np.random.random(20) \n",
    "probabilities = list_of_random_floats / list_of_random_floats.sum()"
   ]
  },
  {
   "cell_type": "code",
   "execution_count": 80,
   "metadata": {},
   "outputs": [
    {
     "data": {
      "text/plain": [
       "0.9999999999999999"
      ]
     },
     "execution_count": 80,
     "metadata": {},
     "output_type": "execute_result"
    }
   ],
   "source": [
    "sum(probabilities)"
   ]
  },
  {
   "cell_type": "code",
   "execution_count": 81,
   "metadata": {},
   "outputs": [
    {
     "data": {
      "image/png": "[encoded data removed]",
      "text/plain": [
       "<Figure size 432x288 with 1 Axes>"
      ]
     },
     "metadata": {
      "needs_background": "light"
     },
     "output_type": "display_data"
    }
   ],
   "source": [
    "plt.scatter(random_vars, probabilities)\n",
    "plt.show()"
   ]
  },
  {
   "cell_type": "code",
   "execution_count": 82,
   "metadata": {},
   "outputs": [
    {
     "data": {
      "text/plain": [
       "0.5003861054868325"
      ]
     },
     "execution_count": 82,
     "metadata": {},
     "output_type": "execute_result"
    }
   ],
   "source": [
    "samples.mean()"
   ]
  },
  {
   "cell_type": "code",
   "execution_count": 83,
   "metadata": {},
   "outputs": [],
   "source": [
    "#параметры запуска: размеры выборок и количество повторов генерации\n",
    "n1 = 50\n",
    "samples_count = 1000\n",
    "\n",
    "#массив для сохранения средних по выборкам\n",
    "a1 = np.array([])\n",
    "\n",
    "for number in range(samples_count):\n",
    "    # на каждом цикле генерируем выборки размера n1\n",
    "    sample1 = np.random.choice(random_vars, n1, p=probabilities)\n",
    "    # считаем среднее по каждой выборке и добавляем в массив средних\n",
    "    a1 = np.append(a1, sample1.mean())"
   ]
  },
  {
   "cell_type": "code",
   "execution_count": 87,
   "metadata": {},
   "outputs": [
    {
     "data": {
      "text/plain": [
       "Text(0.5, 0, '$x$')"
      ]
     },
     "execution_count": 87,
     "metadata": {},
     "output_type": "execute_result"
    },
    {
     "data": {
      "image/png": "[encoded data removed]",
      "text/plain": [
       "<Figure size 432x288 with 1 Axes>"
      ]
     },
     "metadata": {
      "needs_background": "light"
     },
     "output_type": "display_data"
    }
   ],
   "source": [
    "#строим график\n",
    "label_1 = 'sample of ' + str(n1) + ' histogram'\n",
    "plt.hist(a1, density=True, label=label_1)\n",
    "\n",
    "plt.legend()\n",
    "plt.ylabel('samples means')\n",
    "plt.xlabel('$x$')"
   ]
  },
  {
   "cell_type": "code",
   "execution_count": 85,
   "metadata": {},
   "outputs": [
    {
     "data": {
      "text/plain": [
       "array([0.40051211, 0.48901364, 0.43531014, 0.42358905, 0.39547945,\n",
       "       0.44659031, 0.37042574, 0.45404169, 0.44453351, 0.45912302,\n",
       "       0.42672924, 0.36901795, 0.37614525, 0.41780612, 0.41520026,\n",
       "       0.42709408, 0.37737144, 0.39609403, 0.37521276, 0.3750879 ,\n",
       "       0.39161953, 0.34234626, 0.38700117, 0.428555  , 0.38888072,\n",
       "       0.46445148, 0.42643055, 0.38154288, 0.43045655, 0.38378186,\n",
       "       0.34445452, 0.41085231, 0.37397931, 0.44797814, 0.4339201 ,\n",
       "       0.40567418, 0.34860581, 0.35815869, 0.46210409, 0.46451713,\n",
       "       0.35797044, 0.36579919, 0.3859019 , 0.4728667 , 0.44586827,\n",
       "       0.39259417, 0.45771555, 0.41175524, 0.42208912, 0.35915905,\n",
       "       0.35135997, 0.34414462, 0.46440027, 0.42204331, 0.47001447,\n",
       "       0.40105011, 0.46488275, 0.4477081 , 0.44273409, 0.42483859,\n",
       "       0.43557162, 0.42752483, 0.34599218, 0.42289361, 0.42312053,\n",
       "       0.41650267, 0.39291076, 0.38106842, 0.37798744, 0.42314436,\n",
       "       0.41839998, 0.38131525, 0.41336892, 0.42826784, 0.43950285,\n",
       "       0.45978961, 0.44698394, 0.37713996, 0.49026033, 0.42773385,\n",
       "       0.37130021, 0.40997092, 0.47469542, 0.42156432, 0.42104464,\n",
       "       0.41330009, 0.42571602, 0.43715967, 0.37200706, 0.41435221,\n",
       "       0.38699667, 0.48443104, 0.42179309, 0.41352224, 0.39675522,\n",
       "       0.41590765, 0.38909766, 0.45380589, 0.3602932 , 0.39132397,\n",
       "       0.41973515, 0.39304274, 0.37471895, 0.40014837, 0.39213581,\n",
       "       0.37870927, 0.38948678, 0.35885118, 0.42258934, 0.46640599,\n",
       "       0.39481055, 0.4300464 , 0.47816624, 0.32313015, 0.40301909,\n",
       "       0.3908633 , 0.43263607, 0.41774192, 0.33647772, 0.45045967,\n",
       "       0.33052347, 0.39261157, 0.32092929, 0.4459211 , 0.39531014,\n",
       "       0.40153871, 0.42066715, 0.39923353, 0.42314539, 0.43302471,\n",
       "       0.46003148, 0.37833534, 0.4459362 , 0.39159657, 0.40558844,\n",
       "       0.46766684, 0.49794801, 0.37485135, 0.37426434, 0.36806591,\n",
       "       0.42644533, 0.3907304 , 0.38695084, 0.3839729 , 0.43746186,\n",
       "       0.4667263 , 0.38263596, 0.39197874, 0.41177815, 0.43597338,\n",
       "       0.42625059, 0.42729774, 0.3572077 , 0.37268254, 0.39759339,\n",
       "       0.46767182, 0.47616793, 0.47082421, 0.38750394, 0.42715308,\n",
       "       0.42744715, 0.37106625, 0.41523126, 0.36799959, 0.422835  ,\n",
       "       0.46208636, 0.40439283, 0.42579746, 0.43923309, 0.40447056,\n",
       "       0.49026908, 0.45608748, 0.44144378, 0.48203409, 0.38131219,\n",
       "       0.33522119, 0.45357097, 0.45873284, 0.42072944, 0.34411919,\n",
       "       0.4518333 , 0.39989421, 0.37085417, 0.40873385, 0.45676744,\n",
       "       0.42784767, 0.41320208, 0.39384511, 0.34963399, 0.51507155,\n",
       "       0.33270189, 0.35086985, 0.41122848, 0.43123938, 0.41725159,\n",
       "       0.39725569, 0.43178784, 0.44550097, 0.41360012, 0.41214581,\n",
       "       0.4939789 , 0.45102246, 0.42117242, 0.38822138, 0.44031092,\n",
       "       0.43759689, 0.38867346, 0.40771016, 0.36458914, 0.3586159 ,\n",
       "       0.4520789 , 0.42287828, 0.43396449, 0.41937643, 0.45064564,\n",
       "       0.44893673, 0.36528585, 0.43861656, 0.46776482, 0.34825736,\n",
       "       0.41566433, 0.34266299, 0.38227579, 0.41137122, 0.45536114,\n",
       "       0.42806165, 0.36846083, 0.35078677, 0.41725995, 0.38944546,\n",
       "       0.44581865, 0.39172595, 0.43856356, 0.4455108 , 0.51026021,\n",
       "       0.46667929, 0.39333194, 0.47209564, 0.44447837, 0.40628411,\n",
       "       0.41147454, 0.40589373, 0.46003404, 0.37935561, 0.43937402,\n",
       "       0.46944052, 0.39848192, 0.48202026, 0.45823232, 0.40918382,\n",
       "       0.45571214, 0.43477808, 0.43175846, 0.44961164, 0.4355048 ,\n",
       "       0.43331646, 0.39028171, 0.48133421, 0.43396599, 0.37641191,\n",
       "       0.47220702, 0.43910601, 0.41719473, 0.33636177, 0.42676627,\n",
       "       0.38499875, 0.39766107, 0.49104545, 0.41739921, 0.41212097,\n",
       "       0.39535518, 0.44598421, 0.42318112, 0.35454657, 0.35744738,\n",
       "       0.41804075, 0.40516113, 0.45731705, 0.4815877 , 0.41538747,\n",
       "       0.41454315, 0.33427278, 0.4037069 , 0.44371725, 0.4732949 ,\n",
       "       0.43993995, 0.4008701 , 0.44187455, 0.34326758, 0.44966232,\n",
       "       0.38380412, 0.39467579, 0.38525627, 0.39788101, 0.34122776,\n",
       "       0.36627701, 0.45134   , 0.38804325, 0.37712919, 0.41865652,\n",
       "       0.44353004, 0.36368992, 0.35099032, 0.40716254, 0.39206714,\n",
       "       0.46094716, 0.41092998, 0.4171079 , 0.41255087, 0.4108894 ,\n",
       "       0.46784074, 0.33407152, 0.38076038, 0.49996714, 0.40773435,\n",
       "       0.40364531, 0.36512031, 0.36588957, 0.42227989, 0.41779476,\n",
       "       0.45208029, 0.41368781, 0.42146962, 0.38426037, 0.4250778 ,\n",
       "       0.43847572, 0.35208302, 0.49243845, 0.48949682, 0.43902211,\n",
       "       0.39398682, 0.42965968, 0.30733842, 0.55125399, 0.39868567,\n",
       "       0.48914179, 0.43594009, 0.45700133, 0.39115614, 0.39937756,\n",
       "       0.36642088, 0.37515059, 0.45899942, 0.40119578, 0.37633439,\n",
       "       0.4315061 , 0.4340047 , 0.42614598, 0.43647084, 0.32492964,\n",
       "       0.39242171, 0.4004729 , 0.35176198, 0.39936988, 0.36657791,\n",
       "       0.40110405, 0.36817296, 0.47356222, 0.42314877, 0.36117722,\n",
       "       0.35801691, 0.33548652, 0.39155347, 0.3767577 , 0.40664512,\n",
       "       0.359803  , 0.46436927, 0.45187228, 0.42181247, 0.39816311,\n",
       "       0.41059276, 0.42730275, 0.47144698, 0.43614552, 0.41153938,\n",
       "       0.43199796, 0.33236992, 0.47603467, 0.41454353, 0.39337034,\n",
       "       0.41733927, 0.45195963, 0.40622446, 0.36142094, 0.49453618,\n",
       "       0.32930798, 0.38310825, 0.40534524, 0.42587147, 0.37922303,\n",
       "       0.32893295, 0.41891519, 0.43386323, 0.46994838, 0.45366391,\n",
       "       0.33875235, 0.49160518, 0.39827915, 0.40153005, 0.51289164,\n",
       "       0.3512235 , 0.43098482, 0.35936072, 0.4255181 , 0.37987726,\n",
       "       0.414795  , 0.45789861, 0.36760222, 0.41276838, 0.40098733,\n",
       "       0.39071745, 0.45888673, 0.43423156, 0.42066386, 0.341463  ,\n",
       "       0.42828459, 0.3534089 , 0.39932995, 0.43541851, 0.4842373 ,\n",
       "       0.35191118, 0.45352236, 0.34338179, 0.43606367, 0.46565743,\n",
       "       0.45341367, 0.3833044 , 0.3973495 , 0.43430867, 0.42611885,\n",
       "       0.4119141 , 0.39974759, 0.43763134, 0.44751761, 0.42467022,\n",
       "       0.37676924, 0.41814024, 0.34907878, 0.39236726, 0.34825726,\n",
       "       0.38314186, 0.42093651, 0.43499832, 0.41962161, 0.41206667,\n",
       "       0.3657673 , 0.40689971, 0.4099831 , 0.48800777, 0.44579807,\n",
       "       0.47002193, 0.43204421, 0.39291631, 0.39009262, 0.45766725,\n",
       "       0.39450452, 0.44889891, 0.44542904, 0.47472356, 0.49256423,\n",
       "       0.35508304, 0.46774382, 0.45553404, 0.36610334, 0.3306643 ,\n",
       "       0.35727169, 0.36428011, 0.41330047, 0.40727237, 0.34071603,\n",
       "       0.40024932, 0.38387025, 0.35921156, 0.38981302, 0.35332626,\n",
       "       0.38160726, 0.37117132, 0.46792748, 0.43201785, 0.37281583,\n",
       "       0.42937385, 0.40066979, 0.36032127, 0.39824581, 0.365032  ,\n",
       "       0.4371312 , 0.42467746, 0.48699293, 0.36356739, 0.29496824,\n",
       "       0.40595624, 0.30143389, 0.41649735, 0.43613257, 0.33691733,\n",
       "       0.41562826, 0.41463066, 0.4285111 , 0.37650474, 0.42437999,\n",
       "       0.37665563, 0.46736214, 0.48020059, 0.45760776, 0.363307  ,\n",
       "       0.40590921, 0.35069029, 0.41177586, 0.40528455, 0.48632369,\n",
       "       0.43379743, 0.38382794, 0.39462632, 0.41874771, 0.42926583,\n",
       "       0.38847754, 0.40157035, 0.44943491, 0.37554883, 0.44170949,\n",
       "       0.35209661, 0.50346153, 0.36458211, 0.47935179, 0.4075828 ,\n",
       "       0.38340421, 0.38476563, 0.44553489, 0.43353195, 0.48196052,\n",
       "       0.36225868, 0.43938592, 0.48228021, 0.42360226, 0.43549436,\n",
       "       0.42400601, 0.3569048 , 0.40507387, 0.4017576 , 0.3758988 ,\n",
       "       0.42582709, 0.47576402, 0.41949572, 0.45311192, 0.3392035 ,\n",
       "       0.39112641, 0.39957855, 0.37589398, 0.38384938, 0.39089345,\n",
       "       0.32701806, 0.39426461, 0.3605847 , 0.47662892, 0.41671696,\n",
       "       0.41751887, 0.42122328, 0.3902334 , 0.46161418, 0.42882406,\n",
       "       0.4372786 , 0.41412226, 0.46272714, 0.42665114, 0.44833448,\n",
       "       0.37406969, 0.43151296, 0.37548305, 0.39906283, 0.40131296,\n",
       "       0.39438941, 0.39660363, 0.38980467, 0.45062889, 0.34967931,\n",
       "       0.45223581, 0.43094581, 0.39473297, 0.3882149 , 0.39587581,\n",
       "       0.41432334, 0.38862921, 0.41504784, 0.39481792, 0.36847054,\n",
       "       0.38871585, 0.47235256, 0.36852527, 0.38044374, 0.31436815,\n",
       "       0.41485539, 0.40614959, 0.45234259, 0.43115106, 0.38760837,\n",
       "       0.41852039, 0.50958685, 0.46130341, 0.41526319, 0.42391708,\n",
       "       0.521853  , 0.41616277, 0.37820543, 0.33642937, 0.36050641,\n",
       "       0.4202649 , 0.4457542 , 0.45117586, 0.40251682, 0.41903547,\n",
       "       0.38446378, 0.3287469 , 0.41780784, 0.35998084, 0.43054049,\n",
       "       0.46153194, 0.48943568, 0.46445376, 0.36932157, 0.48904101,\n",
       "       0.4187706 , 0.3855889 , 0.40383756, 0.45199216, 0.38706127,\n",
       "       0.51920461, 0.31243088, 0.3525641 , 0.37140175, 0.40505639,\n",
       "       0.47645206, 0.39679956, 0.45042385, 0.40120151, 0.43971514,\n",
       "       0.44442324, 0.45413387, 0.33814139, 0.44767083, 0.42847259,\n",
       "       0.42217867, 0.43856103, 0.3894129 , 0.36593967, 0.40374553,\n",
       "       0.4212574 , 0.37755795, 0.3474809 , 0.47629018, 0.36641339,\n",
       "       0.42487398, 0.39008886, 0.42608396, 0.39477539, 0.42351815,\n",
       "       0.44113663, 0.45463246, 0.38645871, 0.44585769, 0.36871794,\n",
       "       0.42877455, 0.41191513, 0.36214536, 0.48830599, 0.39676997,\n",
       "       0.41267574, 0.36943597, 0.39043989, 0.41026504, 0.49081617,\n",
       "       0.43868944, 0.5107711 , 0.35356526, 0.45322987, 0.39722438,\n",
       "       0.44350131, 0.40222669, 0.42909749, 0.44897024, 0.35787797,\n",
       "       0.39977211, 0.39479838, 0.40539139, 0.45785985, 0.40244969,\n",
       "       0.42430725, 0.40550166, 0.40170548, 0.34200989, 0.42866104,\n",
       "       0.42611939, 0.45977033, 0.38352343, 0.32359566, 0.40715111,\n",
       "       0.48201655, 0.47351526, 0.34087336, 0.33146981, 0.43189912,\n",
       "       0.36364793, 0.35479445, 0.37321827, 0.41736523, 0.4332171 ,\n",
       "       0.41454969, 0.38506142, 0.45496332, 0.4164249 , 0.39920252,\n",
       "       0.35090611, 0.4804227 , 0.39193149, 0.45504989, 0.33421149,\n",
       "       0.41177773, 0.39801692, 0.48843928, 0.43954564, 0.48148809,\n",
       "       0.39552788, 0.41232917, 0.45167515, 0.47906047, 0.39397058,\n",
       "       0.46855999, 0.45912948, 0.37878701, 0.36285627, 0.37313371,\n",
       "       0.45439946, 0.41578142, 0.43860492, 0.44219841, 0.37141486,\n",
       "       0.49552185, 0.34726853, 0.48185693, 0.30434084, 0.40272434,\n",
       "       0.447707  , 0.46147874, 0.48094174, 0.43958172, 0.4052289 ,\n",
       "       0.39629656, 0.37982527, 0.35985261, 0.36590084, 0.38478573,\n",
       "       0.38868957, 0.43916446, 0.33676088, 0.50706497, 0.45766963,\n",
       "       0.34875439, 0.34389708, 0.32999039, 0.46722192, 0.47723948,\n",
       "       0.43511807, 0.53061883, 0.42924541, 0.51748043, 0.40197615,\n",
       "       0.38558286, 0.44101383, 0.43069936, 0.38223568, 0.36723296,\n",
       "       0.4104296 , 0.36885166, 0.39870711, 0.39635163, 0.40517952,\n",
       "       0.39099223, 0.45927224, 0.50244111, 0.44478144, 0.39752337,\n",
       "       0.49848034, 0.42778939, 0.35215223, 0.37271835, 0.44999203,\n",
       "       0.39174555, 0.39147742, 0.44287632, 0.42047878, 0.43055941,\n",
       "       0.32085048, 0.39762334, 0.40917189, 0.41191729, 0.47115795,\n",
       "       0.35184823, 0.35332457, 0.39853461, 0.40421699, 0.415494  ,\n",
       "       0.43783149, 0.44704673, 0.42108632, 0.45525177, 0.42384074,\n",
       "       0.45859121, 0.44925652, 0.45721136, 0.4029548 , 0.42874013,\n",
       "       0.43194933, 0.35842168, 0.38565854, 0.38349582, 0.40780351,\n",
       "       0.3217755 , 0.41692326, 0.42587196, 0.42740681, 0.46301061,\n",
       "       0.33862636, 0.41316965, 0.35134874, 0.46617273, 0.30656993,\n",
       "       0.45098861, 0.41431527, 0.41125722, 0.37978319, 0.46732141,\n",
       "       0.40257234, 0.40392849, 0.46778071, 0.38970864, 0.4108633 ,\n",
       "       0.42311638, 0.448553  , 0.38953593, 0.46329746, 0.45148377,\n",
       "       0.36890856, 0.48910918, 0.35898292, 0.42010799, 0.36281832,\n",
       "       0.47445527, 0.38971726, 0.4316431 , 0.41006168, 0.36934407,\n",
       "       0.4308103 , 0.30398376, 0.37049424, 0.47833535, 0.41952687,\n",
       "       0.43440137, 0.38454049, 0.44507936, 0.38823473, 0.40200621,\n",
       "       0.42274988, 0.43256842, 0.32813506, 0.43693459, 0.4017864 ,\n",
       "       0.35469607, 0.36832795, 0.40005226, 0.35362212, 0.38076793,\n",
       "       0.46408663, 0.40746256, 0.37051964, 0.47508271, 0.47556239,\n",
       "       0.37320914, 0.40481575, 0.43708199, 0.37801416, 0.43668199,\n",
       "       0.43083211, 0.46629389, 0.34486939, 0.40774542, 0.45793696,\n",
       "       0.39410458, 0.46308873, 0.4088358 , 0.46376895, 0.4415026 ,\n",
       "       0.48726879, 0.39741   , 0.37658062, 0.46275158, 0.43419287,\n",
       "       0.41333055, 0.41309334, 0.41249472, 0.42166675, 0.44939721,\n",
       "       0.4119164 , 0.41835124, 0.46015864, 0.40907008, 0.40862653,\n",
       "       0.43271283, 0.4249656 , 0.45235427, 0.40325537, 0.40902189,\n",
       "       0.44649144, 0.43947631, 0.42118622, 0.41435325, 0.3602392 ,\n",
       "       0.37301149, 0.44262673, 0.35220689, 0.38517951, 0.51048239,\n",
       "       0.42684614, 0.34963269, 0.37365238, 0.44669159, 0.45241349,\n",
       "       0.39140115, 0.45734237, 0.39594919, 0.4472546 , 0.44191022,\n",
       "       0.40301923, 0.38392014, 0.42293855, 0.43807683, 0.43461925,\n",
       "       0.38113396, 0.48443621, 0.38095404, 0.44699777, 0.38849948,\n",
       "       0.49136946, 0.39815859, 0.44291857, 0.38373671, 0.45649635,\n",
       "       0.36288929, 0.38069122, 0.40035279, 0.40233867, 0.37687781,\n",
       "       0.43539161, 0.43973279, 0.43105028, 0.50777464, 0.33956132,\n",
       "       0.35644857, 0.39609946, 0.41557381, 0.41705591, 0.36249646,\n",
       "       0.38331215, 0.39748286, 0.38713257, 0.37408583, 0.49363304,\n",
       "       0.42806478, 0.42483296, 0.35898328, 0.44563958, 0.37245338,\n",
       "       0.4043896 , 0.47019933, 0.36554501, 0.48416482, 0.34517315,\n",
       "       0.37907489, 0.41053753, 0.34073612, 0.44607102, 0.42414098,\n",
       "       0.38330675, 0.43638236, 0.4352831 , 0.39419942, 0.43467282,\n",
       "       0.44905122, 0.44777107, 0.37424877, 0.34161217, 0.44996553,\n",
       "       0.46791501, 0.39092525, 0.41818391, 0.46021717, 0.30661323,\n",
       "       0.43961899, 0.41856742, 0.46309411, 0.37192219, 0.3949237 ])"
      ]
     },
     "execution_count": 85,
     "metadata": {},
     "output_type": "execute_result"
    }
   ],
   "source": [
    "a1"
   ]
  },
  {
   "cell_type": "markdown",
   "metadata": {},
   "source": [
    "### **Задание 5**"
   ]
  },
  {
   "cell_type": "markdown",
   "metadata": {},
   "source": [
    "Найдите собственные значения и собственные вектора матрицы (на python и на бумаге)\n",
    "\n",
    "[[1, 4],\n",
    "\n",
    "[1, 1]]"
   ]
  },
  {
   "cell_type": "markdown",
   "metadata": {},
   "source": [
    "**Решение на python:**"
   ]
  },
  {
   "cell_type": "code",
   "execution_count": 27,
   "metadata": {},
   "outputs": [
    {
     "name": "stdout",
     "output_type": "stream",
     "text": [
      "[[1 4]\n",
      " [1 1]]\n"
     ]
    }
   ],
   "source": [
    "a = np.array([[1, 4],\n",
    "              [1, 1]])\n",
    "print(a)"
   ]
  },
  {
   "cell_type": "code",
   "execution_count": 24,
   "metadata": {},
   "outputs": [
    {
     "name": "stdout",
     "output_type": "stream",
     "text": [
      "Собственное значение 3.0000000000000004\n",
      "соответствующий ему собственный вектор [0.89442719 0.4472136 ]\n",
      "Собственное значение -0.9999999999999996\n",
      "соответствующий ему собственный вектор [-0.89442719  0.4472136 ]\n"
     ]
    }
   ],
   "source": [
    "w, v = np.linalg.eig((a))\n",
    "for i in range(len(w)):\n",
    "    print(\"Собственное значение \" + str(w[i]))\n",
    "    print(\"соответствующий ему собственный вектор \" + str(v[:,i]))"
   ]
  },
  {
   "cell_type": "markdown",
   "metadata": {},
   "source": [
    "[Как изобразить матрицу в LaTex](http://fkn.ktu10.com/?q=node/6643)  \n",
    "[Как изобразить систему уравнений в фигурных скобка в LaTex](http://fkn.ktu10.com/?q=node/5603)"
   ]
  },
  {
   "cell_type": "markdown",
   "metadata": {},
   "source": [
    "**Решение в LaTeX:**"
   ]
  },
  {
   "cell_type": "markdown",
   "metadata": {},
   "source": [
    "Дана матрица $a =\\begin{pmatrix}\n",
    "  1& 4\\\\\n",
    "  1& 1\n",
    "\\end{pmatrix}.$  \n",
    "\n",
    "Характеристическое уравнение имеет вид:  \n",
    "$\\begin{vmatrix}\n",
    "  1-w& 4\\\\\n",
    "  1& 1-w\n",
    "\\end{vmatrix}=0.$  \n",
    "\n",
    "\n",
    "Решение характеристического уравнения сводится к поиску корней квадратного уравнения вида:\n",
    "$w^2-2w-3=0.$  \n",
    "\n",
    "По теореме Виета:  \n",
    "\\begin{equation*}\n",
    " \\begin{cases}\n",
    "   w_1+w_2=2, \n",
    "   \\\\\n",
    "   w_1{\\cdot}w_2=-3.\n",
    " \\end{cases}\n",
    "\\end{equation*}\n",
    "\n",
    "Следовательно, видно, что наши собственные вектора принимают значения:  \n",
    "$w_1=3,$  \n",
    "$w_2=-1.$  \n",
    "\n",
    "Подставим поочерёдно полученные собственные значения в характеристическое уравнение и получим пару систем уравнений.\n",
    "\n",
    "Случай №1.  \n",
    "\n",
    "$w_1=3$  \n",
    "\n",
    "Тогда из характеристического уравнения получим:  \n",
    "\n",
    "$\\begin{equation*}\n",
    " \\begin{cases}\n",
    "   -2x+4y=0, \n",
    "   \\\\\n",
    "   x-2y=0.\n",
    " \\end{cases}\n",
    "\\end{equation*}$\n",
    "\n",
    "В результате получаем линейную зависимость $x=2y.$  \n",
    "\n",
    "Откуда собственный вектор (фактически, направление):\n",
    "\n",
    "$w_1=\\begin{pmatrix}\n",
    "  2\\\\\n",
    "  1\n",
    "\\end{pmatrix}.$\n",
    "\n",
    "Решение совпадает с полученным ранее с помощью кода до множителя, точнее сказать, что мы здесь показали не нормированный вектор направления, а \"приятный взору\".\n",
    "\n",
    "Случай №2.  \n",
    "\n",
    "$w_2=-1$  \n",
    "\n",
    "Тогда из характеристического уравнения получим:  \n",
    "\n",
    "$\\begin{equation*}\n",
    " \\begin{cases}\n",
    "   2x+4y=0, \n",
    "   \\\\\n",
    "   x+2y=0.\n",
    " \\end{cases}\n",
    "\\end{equation*}$\n",
    "\n",
    "В результате получаем линейную зависимость $x=-2y.$  \n",
    "\n",
    "Откуда собственный вектор (фактически, направление):\n",
    "\n",
    "$w_2=\\begin{pmatrix}\n",
    "  -2\\\\\n",
    "  1\n",
    "\\end{pmatrix}.$\n",
    "\n",
    "Решение совпадает с полученным ранее с помощью кода до множителя, точнее сказать, что мы здесь показали не нормированный вектор направления, а \"приятный взору\"."
   ]
  }
 ],
 "metadata": {
  "kernelspec": {
   "display_name": "Python 3",
   "language": "python",
   "name": "python3"
  },
  "language_info": {
   "codemirror_mode": {
    "name": "ipython",
    "version": 3
   },
   "file_extension": ".py",
   "mimetype": "text/x-python",
   "name": "python",
   "nbconvert_exporter": "python",
   "pygments_lexer": "ipython3",
   "version": "3.7.6"
  }
 },
 "nbformat": 4,
 "nbformat_minor": 2
}
